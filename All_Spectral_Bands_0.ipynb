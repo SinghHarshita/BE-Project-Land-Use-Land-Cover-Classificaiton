{
 "cells": [
  {
   "cell_type": "code",
   "execution_count": 1,
   "metadata": {},
   "outputs": [],
   "source": [
    "# Importing libraries\n",
    "import os\n",
    "import shutil\n",
    "import random\n",
    "from tqdm import tqdm\n",
    "\n",
    "import numpy as np\n",
    "import pandas as pd\n",
    "\n",
    "import PIL\n",
    "import rasterio\n",
    "import seaborn as sns\n",
    "import matplotlib.pyplot as plt"
   ]
  },
  {
   "cell_type": "code",
   "execution_count": 2,
   "metadata": {},
   "outputs": [
    {
     "data": {
      "text/plain": [
       "['AnnualCrop',\n",
       " 'Forest',\n",
       " 'HerbaceousVegetation',\n",
       " 'Highway',\n",
       " 'Industrial',\n",
       " 'Pasture',\n",
       " 'PermanentCrop',\n",
       " 'Residential',\n",
       " 'River',\n",
       " 'SeaLake']"
      ]
     },
     "execution_count": 2,
     "metadata": {},
     "output_type": "execute_result"
    }
   ],
   "source": [
    "dataset = \"./tif\"\n",
    "labels = os.listdir(dataset)\n",
    "labels"
   ]
  },
  {
   "cell_type": "markdown",
   "metadata": {},
   "source": [
    "# Data Preprocessing"
   ]
  },
  {
   "cell_type": "code",
   "execution_count": 3,
   "metadata": {},
   "outputs": [
    {
     "name": "stderr",
     "output_type": "stream",
     "text": [
      "Using TensorFlow backend.\n"
     ]
    }
   ],
   "source": [
    "# importing libraries\n",
    "import re\n",
    "from sklearn.model_selection import StratifiedShuffleSplit\n",
    "from keras.preprocessing.image import ImageDataGenerator"
   ]
  },
  {
   "cell_type": "code",
   "execution_count": 4,
   "metadata": {},
   "outputs": [],
   "source": [
    "TRAIN_DIR = './usage/training'\n",
    "TEST_DIR = './usage/testing'\n",
    "BATCH_SIZE = 64\n",
    "NUM_CLASSES=len(labels)\n",
    "INPUT_SHAPE = (64, 64, 3)\n",
    "CLASS_MODE = 'categorical'"
   ]
  },
  {
   "cell_type": "code",
   "execution_count": 5,
   "metadata": {},
   "outputs": [],
   "source": [
    "# create training and testing directories\n",
    "for path in (TRAIN_DIR, TEST_DIR):\n",
    "    if not os.path.exists(path):\n",
    "        os.mkdir(path)"
   ]
  },
  {
   "cell_type": "code",
   "execution_count": 6,
   "metadata": {},
   "outputs": [],
   "source": [
    "# create class label subdirectories in train and test\n",
    "for l in labels:\n",
    "    \n",
    "    if not os.path.exists(os.path.join(TRAIN_DIR, l)):\n",
    "        os.mkdir(os.path.join(TRAIN_DIR, l))\n",
    "\n",
    "    if not os.path.exists(os.path.join(TEST_DIR, l)):\n",
    "        os.mkdir(os.path.join(TEST_DIR, l))"
   ]
  },
  {
   "cell_type": "code",
   "execution_count": 7,
   "metadata": {},
   "outputs": [],
   "source": [
    "# map each image path to their class label in 'data'\n",
    "data = {}\n",
    "\n",
    "for l in labels:\n",
    "    for img in os.listdir(dataset+'/'+l):\n",
    "        data.update({os.path.join(dataset, l, img): l})\n",
    "\n",
    "X = pd.Series(list(data.keys()))\n",
    "y = pd.get_dummies(pd.Series(data.values()))\n",
    "\n",
    "split = StratifiedShuffleSplit(n_splits=1, test_size=0.2, random_state=69)"
   ]
  },
  {
   "cell_type": "code",
   "execution_count": 8,
   "metadata": {},
   "outputs": [
    {
     "name": "stderr",
     "output_type": "stream",
     "text": [
      "  0%|                                                                                | 5/21600 [00:00<07:14, 49.67it/s]"
     ]
    },
    {
     "name": "stdout",
     "output_type": "stream",
     "text": [
      "moving training files..\n"
     ]
    },
    {
     "name": "stderr",
     "output_type": "stream",
     "text": [
      "100%|████████████████████████████████████████████████████████████████████████████| 21600/21600 [21:18<00:00, 16.89it/s]\n",
      "  0%|▏                                                                              | 15/5400 [00:00<00:37, 144.81it/s]"
     ]
    },
    {
     "name": "stdout",
     "output_type": "stream",
     "text": [
      "moving testing files..\n"
     ]
    },
    {
     "name": "stderr",
     "output_type": "stream",
     "text": [
      "100%|██████████████████████████████████████████████████████████████████████████████| 5400/5400 [03:33<00:00, 25.30it/s]\n"
     ]
    }
   ],
   "source": [
    "# split the list of image paths\n",
    "for train_idx, test_idx in split.split(X, y):\n",
    "    \n",
    "    train_paths = X[train_idx]\n",
    "    test_paths = X[test_idx]\n",
    "\n",
    "    # define a new path for each image depending on training or testing\n",
    "    new_train_paths = [re.sub('\\.\\/tif', './usage/training', i) for i in train_paths]\n",
    "    new_test_paths = [re.sub('\\.\\/tif', './usage/testing', i) for i in test_paths]\n",
    "\n",
    "    train_path_map = list((zip(train_paths, new_train_paths)))\n",
    "    test_path_map = list((zip(test_paths, new_test_paths)))\n",
    "    \n",
    "    # move the files\n",
    "    print(\"moving training files..\")\n",
    "    for i in tqdm(train_path_map):\n",
    "        if not os.path.exists(i[1]):\n",
    "            if not os.path.exists(re.sub('training', 'testing', i[1])):\n",
    "                shutil.copy(i[0], i[1])\n",
    "    \n",
    "    print(\"moving testing files..\")\n",
    "    for i in tqdm(test_path_map):\n",
    "        if not os.path.exists(i[1]):\n",
    "            if not os.path.exists(re.sub('training', 'testing', i[1])):\n",
    "                shutil.copy(i[0], i[1])"
   ]
  },
  {
   "cell_type": "code",
   "execution_count": 9,
   "metadata": {},
   "outputs": [
    {
     "name": "stdout",
     "output_type": "stream",
     "text": [
      "Found 21600 images belonging to 10 classes.\n",
      "Found 5400 images belonging to 10 classes.\n"
     ]
    }
   ],
   "source": [
    "# Create a ImageDataGenerator Instance which can be used for data augmentation\n",
    "\n",
    "train_gen = ImageDataGenerator(\n",
    "    rescale=1./255,\n",
    "    rotation_range=60,\n",
    "    width_shift_range=0.2,\n",
    "    height_shift_range=0.2,\n",
    "    shear_range=0.2,\n",
    "    zoom_range=0.2,\n",
    "    horizontal_flip=True,\n",
    "    vertical_flip = True\n",
    "#   validation_split=0.2\n",
    ")\n",
    "\n",
    "train_generator = train_gen.flow_from_directory(\n",
    "    directory=TRAIN_DIR,\n",
    "    target_size=(64, 64),\n",
    "    batch_size=BATCH_SIZE,\n",
    "    class_mode=CLASS_MODE,\n",
    "    #subset='training',\n",
    "    color_mode='rgb',\n",
    "    shuffle=True,\n",
    "    seed=69\n",
    ")\n",
    "\n",
    "# test generator for evaluation purposes with no augmentations, just rescaling\n",
    "test_gen = ImageDataGenerator(\n",
    "    rescale=1./255,\n",
    ")\n",
    "\n",
    "test_generator = test_gen.flow_from_directory(\n",
    "    directory=TEST_DIR,\n",
    "    target_size=(64, 64),\n",
    "    batch_size=BATCH_SIZE,\n",
    "    class_mode=CLASS_MODE,\n",
    "    color_mode='rgb',\n",
    "    shuffle=False,\n",
    "    seed=69\n",
    ")"
   ]
  },
  {
   "cell_type": "code",
   "execution_count": 10,
   "metadata": {},
   "outputs": [
    {
     "name": "stdout",
     "output_type": "stream",
     "text": [
      "{'AnnualCrop': 0, 'Forest': 1, 'HerbaceousVegetation': 2, 'Highway': 3, 'Industrial': 4, 'Pasture': 5, 'PermanentCrop': 6, 'Residential': 7, 'River': 8, 'SeaLake': 9}\n"
     ]
    }
   ],
   "source": [
    "print(train_generator.class_indices)\n",
    "np.save('class_indices', train_generator.class_indices)"
   ]
  }
 ],
 "metadata": {
  "kernelspec": {
   "display_name": "Python 3",
   "language": "python",
   "name": "python3"
  },
  "language_info": {
   "codemirror_mode": {
    "name": "ipython",
    "version": 3
   },
   "file_extension": ".py",
   "mimetype": "text/x-python",
   "name": "python",
   "nbconvert_exporter": "python",
   "pygments_lexer": "ipython3",
   "version": "3.7.9"
  }
 },
 "nbformat": 4,
 "nbformat_minor": 4
}
