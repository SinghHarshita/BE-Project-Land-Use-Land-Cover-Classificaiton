{
 "cells": [
  {
   "cell_type": "code",
   "execution_count": 1,
   "metadata": {},
   "outputs": [],
   "source": [
    "# Importing libraries\n",
    "import os\n",
    "import shutil\n",
    "import random\n",
    "from tqdm import tqdm\n",
    "\n",
    "import numpy as np\n",
    "import pandas as pd\n",
    "\n",
    "import PIL\n",
    "import rasterio\n",
    "import seaborn as sns\n",
    "import matplotlib.pyplot as plt"
   ]
  },
  {
   "cell_type": "code",
   "execution_count": 8,
   "metadata": {},
   "outputs": [
    {
     "data": {
      "text/plain": [
       "['AnnualCrop',\n",
       " 'Forest',\n",
       " 'HerbaceousVegetation',\n",
       " 'Highway',\n",
       " 'Industrial',\n",
       " 'Pasture',\n",
       " 'PermanentCrop',\n",
       " 'Residential',\n",
       " 'River',\n",
       " 'SeaLake']"
      ]
     },
     "execution_count": 8,
     "metadata": {},
     "output_type": "execute_result"
    }
   ],
   "source": [
    "dataset = \"./tif\"\n",
    "labels = os.listdir(dataset)\n",
    "labels"
   ]
  },
  {
   "cell_type": "markdown",
   "metadata": {},
   "source": [
    "# Data Preprocessing"
   ]
  },
  {
   "cell_type": "code",
   "execution_count": 3,
   "metadata": {},
   "outputs": [
    {
     "name": "stderr",
     "output_type": "stream",
     "text": [
      "Using TensorFlow backend.\n"
     ]
    }
   ],
   "source": [
    "# importing libraries\n",
    "import re\n",
    "from sklearn.model_selection import StratifiedShuffleSplit\n",
    "from keras.preprocessing.image import ImageDataGenerator"
   ]
  },
  {
   "cell_type": "code",
   "execution_count": 9,
   "metadata": {},
   "outputs": [],
   "source": [
    "TRAIN_DIR = './usage/training'\n",
    "TEST_DIR = './usage/testing'\n",
    "BATCH_SIZE = 64\n",
    "NUM_CLASSES=len(labels)\n",
    "INPUT_SHAPE = (64, 64, 13)\n",
    "CLASS_MODE = 'categorical'"
   ]
  },
  {
   "cell_type": "code",
   "execution_count": 13,
   "metadata": {},
   "outputs": [],
   "source": [
    "# create training and testing directories\n",
    "for path in (TRAIN_DIR, TEST_DIR):\n",
    "    if not os.path.exists(path):\n",
    "        os.mkdir(path)"
   ]
  },
  {
   "cell_type": "code",
   "execution_count": 14,
   "metadata": {},
   "outputs": [],
   "source": [
    "# create class label subdirectories in train and test\n",
    "for l in labels:\n",
    "    \n",
    "    if not os.path.exists(os.path.join(TRAIN_DIR, l)):\n",
    "        os.mkdir(os.path.join(TRAIN_DIR, l))\n",
    "\n",
    "    if not os.path.exists(os.path.join(TEST_DIR, l)):\n",
    "        os.mkdir(os.path.join(TEST_DIR, l))"
   ]
  },
  {
   "cell_type": "code",
   "execution_count": 15,
   "metadata": {},
   "outputs": [],
   "source": [
    "# map each image path to their class label in 'data'\n",
    "data = {}\n",
    "\n",
    "for l in labels:\n",
    "    for img in os.listdir(dataset+'/'+l):\n",
    "        data.update({os.path.join(dataset, l, img): l})\n",
    "\n",
    "X = pd.Series(list(data.keys()))\n",
    "y = pd.get_dummies(pd.Series(data.values()))\n",
    "\n",
    "split = StratifiedShuffleSplit(n_splits=1, test_size=0.2, random_state=69)"
   ]
  },
  {
   "cell_type": "code",
   "execution_count": 16,
   "metadata": {},
   "outputs": [
    {
     "name": "stderr",
     "output_type": "stream",
     "text": [
      "\r",
      "  0%|                                                                                        | 0/21600 [00:00<?, ?it/s]"
     ]
    },
    {
     "name": "stdout",
     "output_type": "stream",
     "text": [
      "moving training files..\n"
     ]
    },
    {
     "name": "stderr",
     "output_type": "stream",
     "text": [
      "100%|████████████████████████████████████████████████████████████████████████████| 21600/21600 [13:36<00:00, 26.46it/s]\n",
      "  0%|                                                                                 | 4/5400 [00:00<02:39, 33.80it/s]"
     ]
    },
    {
     "name": "stdout",
     "output_type": "stream",
     "text": [
      "moving testing files..\n"
     ]
    },
    {
     "name": "stderr",
     "output_type": "stream",
     "text": [
      "100%|██████████████████████████████████████████████████████████████████████████████| 5400/5400 [03:01<00:00, 29.75it/s]\n"
     ]
    }
   ],
   "source": [
    "# split the list of image paths\n",
    "for train_idx, test_idx in split.split(X, y):\n",
    "    \n",
    "    train_paths = X[train_idx]\n",
    "    test_paths = X[test_idx]\n",
    "\n",
    "    # define a new path for each image depending on training or testing\n",
    "    new_train_paths = [re.sub('\\.\\/tif', './usage/training', i) for i in train_paths]\n",
    "    new_test_paths = [re.sub('\\.\\/tif', './usage/testing', i) for i in test_paths]\n",
    "\n",
    "    train_path_map = list((zip(train_paths, new_train_paths)))\n",
    "    test_path_map = list((zip(test_paths, new_test_paths)))\n",
    "    \n",
    "    # move the files\n",
    "    print(\"moving training files..\")\n",
    "    for i in tqdm(train_path_map):\n",
    "        if not os.path.exists(i[1]):\n",
    "            if not os.path.exists(re.sub('training', 'testing', i[1])):\n",
    "                shutil.copy(i[0], i[1])\n",
    "    \n",
    "    print(\"moving testing files..\")\n",
    "    for i in tqdm(test_path_map):\n",
    "        if not os.path.exists(i[1]):\n",
    "            if not os.path.exists(re.sub('training', 'testing', i[1])):\n",
    "                shutil.copy(i[0], i[1])"
   ]
  },
  {
   "cell_type": "code",
   "execution_count": 17,
   "metadata": {},
   "outputs": [
    {
     "name": "stdout",
     "output_type": "stream",
     "text": [
      "Found 21600 images belonging to 10 classes.\n",
      "Found 21600 images belonging to 10 classes.\n"
     ]
    }
   ],
   "source": [
    "# Create a ImageDataGenerator Instance which can be used for data augmentation\n",
    "\n",
    "def my_image_mask_generator(image_data_generator, mask_data_generator):\n",
    "    train_generator = zip(image_data_generator, mask_data_generator)\n",
    "    for (img, mask) in train_generator:\n",
    "        yield (img, mask)\n",
    "\n",
    "SEED = 100\n",
    "\n",
    "train_image_data_generator = ImageDataGenerator(\n",
    "    width_shift_range = 0.1,\n",
    "    height_shift_range = 0.1,\n",
    "    rotation_range = 10,\n",
    "    zoom_range = 0.1\n",
    ").flow_from_directory(directory=TRAIN_DIR, batch_size = 16, target_size = (150, 150), seed = SEED)\n",
    "\n",
    "train_mask_data_generator = ImageDataGenerator(\n",
    "    width_shift_range = 0.1,\n",
    "    height_shift_range = 0.1,\n",
    "    rotation_range = 10,\n",
    "    zoom_range = 0.1\n",
    ").flow_from_directory(directory=TRAIN_DIR, batch_size = 16, target_size = (150, 150), seed = SEED)"
   ]
  },
  {
   "cell_type": "code",
   "execution_count": 18,
   "metadata": {},
   "outputs": [
    {
     "name": "stdout",
     "output_type": "stream",
     "text": [
      "{'AnnualCrop': 0, 'Forest': 1, 'HerbaceousVegetation': 2, 'Highway': 3, 'Industrial': 4, 'Pasture': 5, 'PermanentCrop': 6, 'Residential': 7, 'River': 8, 'SeaLake': 9}\n"
     ]
    }
   ],
   "source": [
    "print(train_image_data_generator.class_indices)\n",
    "np.save('class_indices', train_image_data_generator.class_indices)"
   ]
  },
  {
   "cell_type": "code",
   "execution_count": 19,
   "metadata": {},
   "outputs": [],
   "source": [
    "from keras.optimizers import Adam\n",
    "\n",
    "# Creating custom generator for training images and masks\n",
    "my_generator = my_image_mask_generator(train_image_data_generator, train_mask_data_generator)"
   ]
  },
  {
   "cell_type": "code",
   "execution_count": null,
   "metadata": {},
   "outputs": [],
   "source": []
  }
 ],
 "metadata": {
  "kernelspec": {
   "display_name": "Python 3",
   "language": "python",
   "name": "python3"
  },
  "language_info": {
   "codemirror_mode": {
    "name": "ipython",
    "version": 3
   },
   "file_extension": ".py",
   "mimetype": "text/x-python",
   "name": "python",
   "nbconvert_exporter": "python",
   "pygments_lexer": "ipython3",
   "version": "3.7.9"
  }
 },
 "nbformat": 4,
 "nbformat_minor": 4
}
