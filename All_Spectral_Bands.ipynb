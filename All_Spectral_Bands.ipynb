{
 "cells": [
  {
   "cell_type": "markdown",
   "metadata": {},
   "source": [
    "# About the Dataset"
   ]
  },
  {
   "cell_type": "markdown",
   "metadata": {},
   "source": [
    "This dataset consisits of 64x64 images captured by Sentinel-2A satellite and it has over 27000 images spread across 10 classes. The data consists of hyperspectral images with 13 spectral bands. \n",
    "\n",
    "The dataset is omposed of images taken from the Sentinel-2 satellite. It lists images of the earth's surface into 10 different land cover labels. "
   ]
  },
  {
   "cell_type": "code",
   "execution_count": 12,
   "metadata": {},
   "outputs": [],
   "source": [
    "# Importing libraries\n",
    "import os\n",
    "import shutil\n",
    "import random\n",
    "from tqdm import tqdm\n",
    "\n",
    "import numpy as np\n",
    "import pandas as pd\n",
    "\n",
    "import PIL\n",
    "import rasterio\n",
    "import seaborn as sns\n",
    "import matplotlib.pyplot as plt"
   ]
  },
  {
   "cell_type": "code",
   "execution_count": 2,
   "metadata": {},
   "outputs": [
    {
     "data": {
      "text/plain": [
       "['AnnualCrop',\n",
       " 'Forest',\n",
       " 'HerbaceousVegetation',\n",
       " 'Highway',\n",
       " 'Industrial',\n",
       " 'Pasture',\n",
       " 'PermanentCrop',\n",
       " 'Residential',\n",
       " 'River',\n",
       " 'SeaLake']"
      ]
     },
     "execution_count": 2,
     "metadata": {},
     "output_type": "execute_result"
    }
   ],
   "source": [
    "dataset = \"./tif\"\n",
    "labels = os.listdir(dataset)\n",
    "labels"
   ]
  },
  {
   "cell_type": "markdown",
   "metadata": {},
   "source": [
    "These are the 10 classes of land cover in the dataset"
   ]
  },
  {
   "cell_type": "markdown",
   "metadata": {},
   "source": [
    "# Data Exploration"
   ]
  },
  {
   "cell_type": "markdown",
   "metadata": {},
   "source": [
    "### Plotting class distributions of dataset"
   ]
  },
  {
   "cell_type": "code",
   "execution_count": 3,
   "metadata": {},
   "outputs": [
    {
     "data": {
      "text/plain": [
       "Text(0.5, 1.0, 'EUROSAT Class Distribution')"
      ]
     },
     "execution_count": 3,
     "metadata": {},
     "output_type": "execute_result"
    },
    {
     "data": {
      "image/png": "[encoded data removed]",
      "text/plain": [
       "<Figure size 864x432 with 1 Axes>"
      ]
     },
     "metadata": {
      "needs_background": "light"
     },
     "output_type": "display_data"
    }
   ],
   "source": [
    "counts = {}\n",
    "\n",
    "for l in labels:\n",
    "    counts[l] = len(os.listdir(os.path.join(dataset, l)))\n",
    "\n",
    "plt.figure(figsize=(12,6))\n",
    "\n",
    "plt.bar(range(len(counts)), list(counts.values()), align='center')\n",
    "plt.xticks(range(len(counts)), list(counts.keys()), fontsize=12, rotation=40)\n",
    "plt.xlabel('Class Label', fontsize=13)\n",
    "plt.ylabel('Class Size', fontsize=13)\n",
    "plt.title('EUROSAT Class Distribution', fontsize=15)"
   ]
  },
  {
   "cell_type": "markdown",
   "metadata": {},
   "source": [
    "Each class varifies in size. Hence, we will have to stratify later on"
   ]
  },
  {
   "cell_type": "markdown",
   "metadata": {},
   "source": [
    "### Preview of Different Classes"
   ]
  },
  {
   "cell_type": "code",
   "execution_count": 22,
   "metadata": {},
   "outputs": [],
   "source": [
    "# Importing Images\n",
    "# img_paths = [os.path.join(dataset, l, l+'_1000.tif') for l in labels]\n",
    "img_paths = []\n",
    "\n",
    "img_paths = img_paths + [os.path.join(dataset, l, l+'_2000.tif') for l in labels]\n"
   ]
  },
  {
   "cell_type": "markdown",
   "metadata": {},
   "source": [
    "#### Calculating the dimensions of the image on earth in metres"
   ]
  },
  {
   "cell_type": "code",
   "execution_count": 23,
   "metadata": {},
   "outputs": [
    {
     "name": "stdout",
     "output_type": "stream",
     "text": [
      "AnnualCrop \n",
      "Width :  640.178719083895 Height :  640.2759043509141\n",
      "Forest \n",
      "Width :  639.931708357064 Height :  639.8996918257326\n",
      "HerbaceousVegetation \n",
      "Width :  640.1186183239333 Height :  639.6750785252079\n",
      "Highway \n",
      "Width :  642.439800421067 Height :  638.7684292686172\n",
      "Industrial \n",
      "Width :  637.2012490322813 Height :  639.8486484214664\n",
      "Pasture \n",
      "Width :  638.5759798452491 Height :  639.6489530131221\n",
      "PermanentCrop \n",
      "Width :  639.5867255999474 Height :  641.1948298038915\n",
      "Residential \n",
      "Width :  641.5660224460298 Height :  639.5868128668517\n",
      "River \n",
      "Width :  639.8023213049164 Height :  640.2042276095599\n",
      "SeaLake \n",
      "Width :  639.8546920991503 Height :  639.8149254219607\n"
     ]
    }
   ],
   "source": [
    "for img in img_paths:\n",
    "    sat_data = rasterio.open(img)\n",
    "    width_in_projected_units = sat_data.bounds.right - sat_data.bounds.left\n",
    "    height_in_projected_units = sat_data.bounds.top - sat_data.bounds.bottom\n",
    "    print(img.split('\\\\')[-2], \"\\nWidth : \", width_in_projected_units, \"Height : \", height_in_projected_units)"
   ]
  },
  {
   "cell_type": "markdown",
   "metadata": {},
   "source": [
    "#### Rows & Columns"
   ]
  },
  {
   "cell_type": "code",
   "execution_count": 24,
   "metadata": {},
   "outputs": [
    {
     "name": "stdout",
     "output_type": "stream",
     "text": [
      "AnnualCrop\n",
      "Rows: 64, Columns: 64\n",
      "Forest\n",
      "Rows: 64, Columns: 64\n",
      "HerbaceousVegetation\n",
      "Rows: 64, Columns: 64\n",
      "Highway\n",
      "Rows: 64, Columns: 64\n",
      "Industrial\n",
      "Rows: 64, Columns: 64\n",
      "Pasture\n",
      "Rows: 64, Columns: 64\n",
      "PermanentCrop\n",
      "Rows: 64, Columns: 64\n",
      "Residential\n",
      "Rows: 64, Columns: 64\n",
      "River\n",
      "Rows: 64, Columns: 64\n",
      "SeaLake\n",
      "Rows: 64, Columns: 64\n"
     ]
    }
   ],
   "source": [
    "for img in img_paths:\n",
    "    sat_data = rasterio.open(img)\n",
    "    print(img.split('\\\\')[-2])\n",
    "    print(\"Rows: {}, Columns: {}\".format(sat_data.height, sat_data.width))"
   ]
  },
  {
   "cell_type": "markdown",
   "metadata": {},
   "source": [
    "#### Converting the pixel co-ordinates to longitudes and latitudes"
   ]
  },
  {
   "cell_type": "code",
   "execution_count": 26,
   "metadata": {},
   "outputs": [
    {
     "name": "stdout",
     "output_type": "stream",
     "text": [
      "AnnualCrop\n",
      "Top left corner coordinates: (772967.6388936953, 5217495.586391792)\n",
      "Bottom right corner coordinates: (773597.8148202935, 5216865.314798446)\n",
      "\n",
      "Forest\n",
      "Top left corner coordinates: (576998.316997501, 5614336.0874284245)\n",
      "Bottom right corner coordinates: (577628.2497729149, 5613706.186169283)\n",
      "\n",
      "HerbaceousVegetation\n",
      "Top left corner coordinates: (453874.8038349409, 6139459.5803086115)\n",
      "Bottom right corner coordinates: (454504.9205998535, 6138829.900153189)\n",
      "\n",
      "Highway\n",
      "Top left corner coordinates: (461226.249066, 3100223.32396)\n",
      "Bottom right corner coordinates: (461858.65074453945, 3099594.536287439)\n",
      "\n",
      "Industrial\n",
      "Top left corner coordinates: (566906.655159, 5643228.87607)\n",
      "Bottom right corner coordinates: (567533.9001385161, 5642599.0250567105)\n",
      "\n",
      "Pasture\n",
      "Top left corner coordinates: (577529.8024485304, 5861928.808272096)\n",
      "Bottom right corner coordinates: (578158.4006786906, 5861299.153833974)\n",
      "\n",
      "PermanentCrop\n",
      "Top left corner coordinates: (653386.5139481875, 4869515.055420981)\n",
      "Bottom right corner coordinates: (654016.1071311999, 4868883.879260393)\n",
      "\n",
      "Residential\n",
      "Top left corner coordinates: (476525.980606, 5374739.243803182)\n",
      "Bottom right corner coordinates: (477157.52215934533, 5374109.650534266)\n",
      "\n",
      "River\n",
      "Top left corner coordinates: (645665.998364452, 5341681.29378667)\n",
      "Bottom right corner coordinates: (646295.8037744866, 5341051.092750117)\n",
      "\n",
      "SeaLake\n",
      "Top left corner coordinates: (549517.8967456529, 6027638.107912736)\n",
      "Bottom right corner coordinates: (550147.7537081881, 6027008.290095524)\n",
      "\n"
     ]
    }
   ],
   "source": [
    "for img in img_paths:\n",
    "    sat_data = rasterio.open(img)\n",
    "    print(img.split('\\\\')[-2])\n",
    "    # Upper left pixel\n",
    "    row_min = 0\n",
    "    col_min = 0\n",
    "\n",
    "    # Lower right pixel.  Rows and columns are zero indexing.\n",
    "    row_max = sat_data.height - 1\n",
    "    col_max = sat_data.width - 1\n",
    "\n",
    "    # Transform coordinates with the dataset's affine transformation.\n",
    "    topleft = sat_data.transform * (row_min, col_min)\n",
    "    botright = sat_data.transform * (row_max, col_max)\n",
    "\n",
    "    print(\"Top left corner coordinates: {}\".format(topleft))\n",
    "    print(\"Bottom right corner coordinates: {}\\n\".format(botright))"
   ]
  },
  {
   "cell_type": "markdown",
   "metadata": {},
   "source": [
    "#### Bands"
   ]
  },
  {
   "cell_type": "markdown",
   "metadata": {},
   "source": [
    "The images that we are inspecting have 13 spectral bands. Each spectral band is stored as a numpy array"
   ]
  },
  {
   "cell_type": "code",
   "execution_count": 27,
   "metadata": {},
   "outputs": [
    {
     "name": "stdout",
     "output_type": "stream",
     "text": [
      "AnnualCrop\n",
      "13\n",
      "(1, 2, 3, 4, 5, 6, 7, 8, 9, 10, 11, 12, 13) \n",
      "\n",
      "Forest\n",
      "13\n",
      "(1, 2, 3, 4, 5, 6, 7, 8, 9, 10, 11, 12, 13) \n",
      "\n",
      "HerbaceousVegetation\n",
      "13\n",
      "(1, 2, 3, 4, 5, 6, 7, 8, 9, 10, 11, 12, 13) \n",
      "\n",
      "Highway\n",
      "13\n",
      "(1, 2, 3, 4, 5, 6, 7, 8, 9, 10, 11, 12, 13) \n",
      "\n",
      "Industrial\n",
      "13\n",
      "(1, 2, 3, 4, 5, 6, 7, 8, 9, 10, 11, 12, 13) \n",
      "\n",
      "Pasture\n",
      "13\n",
      "(1, 2, 3, 4, 5, 6, 7, 8, 9, 10, 11, 12, 13) \n",
      "\n",
      "PermanentCrop\n",
      "13\n",
      "(1, 2, 3, 4, 5, 6, 7, 8, 9, 10, 11, 12, 13) \n",
      "\n",
      "Residential\n",
      "13\n",
      "(1, 2, 3, 4, 5, 6, 7, 8, 9, 10, 11, 12, 13) \n",
      "\n",
      "River\n",
      "13\n",
      "(1, 2, 3, 4, 5, 6, 7, 8, 9, 10, 11, 12, 13) \n",
      "\n",
      "SeaLake\n",
      "13\n",
      "(1, 2, 3, 4, 5, 6, 7, 8, 9, 10, 11, 12, 13) \n",
      "\n"
     ]
    }
   ],
   "source": [
    "for img in img_paths:\n",
    "    sat_data = rasterio.open(img)\n",
    "    print(img.split('\\\\')[-2])\n",
    "    print(sat_data.count)\n",
    "\n",
    "    # sequence of band indexes\n",
    "    print(sat_data.indexes, \"\\n\")\n"
   ]
  },
  {
   "cell_type": "code",
   "execution_count": null,
   "metadata": {},
   "outputs": [],
   "source": []
  }
 ],
 "metadata": {
  "kernelspec": {
   "display_name": "Python 3",
   "language": "python",
   "name": "python3"
  },
  "language_info": {
   "codemirror_mode": {
    "name": "ipython",
    "version": 3
   },
   "file_extension": ".py",
   "mimetype": "text/x-python",
   "name": "python",
   "nbconvert_exporter": "python",
   "pygments_lexer": "ipython3",
   "version": "3.7.4"
  }
 },
 "nbformat": 4,
 "nbformat_minor": 2
}
